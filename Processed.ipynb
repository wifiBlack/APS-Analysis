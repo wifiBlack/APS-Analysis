{
 "cells": [
  {
   "cell_type": "code",
   "execution_count": 1,
   "id": "7720937d",
   "metadata": {},
   "outputs": [],
   "source": [
    "import json\n",
    "import pandas as pd\n",
    "from geopy.geocoders import Nominatim\n"
   ]
  },
  {
   "cell_type": "code",
   "execution_count": 2,
   "id": "b7284bec",
   "metadata": {},
   "outputs": [],
   "source": [
    "geolocator = Nominatim(user_agent=\"my_geocoder\",timeout=100)"
   ]
  },
  {
   "cell_type": "code",
   "execution_count": 3,
   "id": "c39dddbe",
   "metadata": {},
   "outputs": [],
   "source": [
    "def get_city_name(university_name):\n",
    "    location = geolocator.geocode(university_name)\n",
    "    if location:\n",
    "        return location.raw['address'].get('city', '')\n",
    "    else:\n",
    "        return ''"
   ]
  },
  {
   "cell_type": "code",
   "execution_count": 4,
   "id": "7d68f90a",
   "metadata": {},
   "outputs": [],
   "source": [
    "data = []\n",
    "with open('doiAuthorAffiliation.jsonl', 'r',encoding='utf-8') as file:\n",
    "    for line in file:\n",
    "        data.append(json.loads(line))"
   ]
  },
  {
   "cell_type": "code",
   "execution_count": 5,
   "id": "3879547b",
   "metadata": {
    "scrolled": false
   },
   "outputs": [],
   "source": [
    "df = pd.DataFrame(data)\n",
    "\n",
    "# 将DataFrame保存为CSV文件\n",
    "df.to_csv('output.csv', index=False,encoding='utf-8')"
   ]
  },
  {
   "cell_type": "code",
   "execution_count": 6,
   "id": "be6509a2",
   "metadata": {},
   "outputs": [],
   "source": [
    "import csv\n",
    "\n",
    "input_file = 'output.csv'\n",
    "output_file = 'output_updated.csv'\n",
    "\n",
    "with open(input_file, 'r', newline='',encoding='utf-8') as file:\n",
    "    reader = csv.reader(file)\n",
    "    rows = list(reader)\n",
    "\n",
    "    for row in rows:\n",
    "        if len(row) > 0:\n",
    "            data = row[2].strip(\"[]\")  # 去掉最前面的'['和最后面的']'\n",
    "            data = data.strip(\"''\")\n",
    "            data = data.strip(\".\")\n",
    "            if ',' in data:\n",
    "                data = data.split(',')[-1].strip()  # 只保留最后一个逗号之后的内容\n",
    "            else:\n",
    "                data = data.strip()  # 如果没有逗号，则不做处理\n",
    "            row[2] = data\n",
    "\n",
    "with open(output_file, 'w', newline='',encoding='utf-8') as file:\n",
    "    writer = csv.writer(file)\n",
    "    writer.writerows(rows)"
   ]
  },
  {
   "cell_type": "code",
   "execution_count": null,
   "id": "f559cf73",
   "metadata": {},
   "outputs": [],
   "source": []
  },
  {
   "cell_type": "code",
   "execution_count": null,
   "id": "0f132f3e",
   "metadata": {},
   "outputs": [],
   "source": []
  }
 ],
 "metadata": {
  "kernelspec": {
   "display_name": "Python 3 (ipykernel)",
   "language": "python",
   "name": "python3"
  },
  "language_info": {
   "codemirror_mode": {
    "name": "ipython",
    "version": 3
   },
   "file_extension": ".py",
   "mimetype": "text/x-python",
   "name": "python",
   "nbconvert_exporter": "python",
   "pygments_lexer": "ipython3",
   "version": "3.11.3"
  },
  "toc": {
   "base_numbering": 1,
   "nav_menu": {},
   "number_sections": true,
   "sideBar": true,
   "skip_h1_title": false,
   "title_cell": "Table of Contents",
   "title_sidebar": "Contents",
   "toc_cell": false,
   "toc_position": {},
   "toc_section_display": true,
   "toc_window_display": false
  }
 },
 "nbformat": 4,
 "nbformat_minor": 5
}
